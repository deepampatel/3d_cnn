{
 "cells": [
  {
   "cell_type": "code",
   "execution_count": 1,
   "metadata": {},
   "outputs": [
    {
     "name": "stderr",
     "output_type": "stream",
     "text": [
      "Using TensorFlow backend.\n"
     ]
    }
   ],
   "source": [
    "import pandas as pd\n",
    "import numpy as np\n",
    "import glob\n",
    "import model\n",
    "from keras.utils import to_categorical"
   ]
  },
  {
   "cell_type": "code",
   "execution_count": 2,
   "metadata": {},
   "outputs": [],
   "source": [
    "def get_training_data():\n",
    "    count = 0\n",
    "    train_array = np.zeros(shape=(32,32,32,4))\n",
    "    flag_first_element = 1\n",
    "    for voxel_file in glob.glob('./data/*.csv'):\n",
    "        csv = pd.read_csv(voxel_file)\n",
    "        x_norm = csv.channel2.tolist()\n",
    "        y_norm = csv.channel3.tolist()\n",
    "        z_norm = csv.channel4.tolist()\n",
    "        occupany = csv.channel4.tolist()\n",
    "\n",
    "        x_cord = csv['ix'].tolist()\n",
    "        y_cord = csv['iy'].tolist()\n",
    "        z_cord = csv['iz'].tolist()\n",
    "        _3d_x_norm = np.zeros(shape=(32,32,32))\n",
    "        _3d_y_norm = np.zeros(shape=(32,32,32))\n",
    "        _3d_z_norm = np.zeros(shape=(32,32,32))\n",
    "        _3d_occupancy = np.zeros(shape=(32,32,32))\n",
    "        for i in range(len(x_cord)):\n",
    "            _3d_x_norm[x_cord[i],y_cord[i],z_cord[i]] = x_norm[i]\n",
    "            _3d_y_norm[x_cord[i],y_cord[i],z_cord[i]] = y_norm[i]\n",
    "            _3d_z_norm[x_cord[i],y_cord[i],z_cord[i]] = z_norm[i]\n",
    "            _3d_occupancy[x_cord[i],y_cord[i],z_cord[i]] = occupany[i]\n",
    "\n",
    "        voxel = np.stack(( _3d_x_norm, _3d_y_norm, _3d_z_norm, _3d_occupancy),-1)\n",
    "\n",
    "        if(flag_first_element):\n",
    "            train_array = voxel\n",
    "            flag_first_element = 0\n",
    "        else:\n",
    "            train_array = np.concatenate((train_array, voxel), -1)\n",
    "        count = count + 1\n",
    "\n",
    "    train_array = train_array.reshape(count, 32, 32, 32, 4)\n",
    "\n",
    "    return train_array"
   ]
  },
  {
   "cell_type": "code",
   "execution_count": 3,
   "metadata": {},
   "outputs": [],
   "source": [
    "def get_training_labels():\n",
    "    csv = pd.read_csv('Path_to_labels_csv')\n",
    "    labels = csv['labels']\n",
    "    return labels.tolist()"
   ]
  },
  {
   "cell_type": "code",
   "execution_count": 4,
   "metadata": {},
   "outputs": [
    {
     "name": "stdout",
     "output_type": "stream",
     "text": [
      "Epoch 1/1\n",
      "1/1 [==============================] - 1s 892ms/step - loss: 0.6169 - acc: 1.0000\n"
     ]
    }
   ],
   "source": [
    "if __name__ == '__main__':\n",
    "    X_train = get_training_data()\n",
    "    Y_train = [1]   #get_training_labels()\n",
    "    Y_train = to_categorical(Y_train, 2)    #One hot encoding the data\n",
    "    modell = model.create_model()\n",
    "    modell.compile(loss='categorical_crossentropy', optimizer='adam', metrics=['accuracy'])\n",
    "    modell.fit(X_train, Y_train)\n"
   ]
  },
  {
   "cell_type": "code",
   "execution_count": null,
   "metadata": {},
   "outputs": [],
   "source": []
  }
 ],
 "metadata": {
  "kernelspec": {
   "display_name": "Python 3",
   "language": "python",
   "name": "python3"
  },
  "language_info": {
   "codemirror_mode": {
    "name": "ipython",
    "version": 3
   },
   "file_extension": ".py",
   "mimetype": "text/x-python",
   "name": "python",
   "nbconvert_exporter": "python",
   "pygments_lexer": "ipython3",
   "version": "3.5.4"
  }
 },
 "nbformat": 4,
 "nbformat_minor": 2
}
